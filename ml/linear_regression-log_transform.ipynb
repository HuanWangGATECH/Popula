{
 "cells": [
  {
   "cell_type": "code",
   "execution_count": 38,
   "metadata": {},
   "outputs": [],
   "source": [
    "import numpy as np\n",
    "import pandas as pd\n",
    "from sklearn import linear_model\n",
    "from sklearn.model_selection import train_test_split\n",
    "from sklearn.metrics import mean_squared_error, mean_absolute_error, median_absolute_error, r2_score\n",
    "from math import sqrt\n",
    "from scipy import stats"
   ]
  },
  {
   "cell_type": "code",
   "execution_count": 2,
   "metadata": {},
   "outputs": [],
   "source": [
    "df = pd.read_excel('combined_5features.xlsx')"
   ]
  },
  {
   "cell_type": "code",
   "execution_count": 3,
   "metadata": {},
   "outputs": [
    {
     "data": {
      "text/plain": [
       "Index(['state_county', 'label', 'state_name', 'county_name',\n",
       "       'Land_area (sq miles)', 'life_exp', 'income', 'inflow_exmpt_num',\n",
       "       'housing_units', 'Population_total'],\n",
       "      dtype='object')"
      ]
     },
     "execution_count": 3,
     "metadata": {},
     "output_type": "execute_result"
    }
   ],
   "source": [
    "df.columns"
   ]
  },
  {
   "cell_type": "code",
   "execution_count": 4,
   "metadata": {},
   "outputs": [
    {
     "data": {
      "text/plain": [
       "(3143, 5)"
      ]
     },
     "execution_count": 4,
     "metadata": {},
     "output_type": "execute_result"
    }
   ],
   "source": [
    "# The feature 'inflow_exmpt_num' is not used because it contains -1 values\n",
    "data = df[['Land_area (sq miles)', 'life_exp', 'income', 'housing_units', 'Population_total']]\n",
    "data.shape"
   ]
  },
  {
   "cell_type": "code",
   "execution_count": 5,
   "metadata": {},
   "outputs": [
    {
     "data": {
      "text/html": [
       "<div>\n",
       "<style scoped>\n",
       "    .dataframe tbody tr th:only-of-type {\n",
       "        vertical-align: middle;\n",
       "    }\n",
       "\n",
       "    .dataframe tbody tr th {\n",
       "        vertical-align: top;\n",
       "    }\n",
       "\n",
       "    .dataframe thead th {\n",
       "        text-align: right;\n",
       "    }\n",
       "</style>\n",
       "<table border=\"1\" class=\"dataframe\">\n",
       "  <thead>\n",
       "    <tr style=\"text-align: right;\">\n",
       "      <th></th>\n",
       "      <th>Land_area (sq miles)</th>\n",
       "      <th>life_exp</th>\n",
       "      <th>income</th>\n",
       "      <th>housing_units</th>\n",
       "      <th>Population_total</th>\n",
       "    </tr>\n",
       "  </thead>\n",
       "  <tbody>\n",
       "    <tr>\n",
       "      <th>0</th>\n",
       "      <td>594.44</td>\n",
       "      <td>75.32</td>\n",
       "      <td>24568.0</td>\n",
       "      <td>22135</td>\n",
       "      <td>54571</td>\n",
       "    </tr>\n",
       "    <tr>\n",
       "      <th>1</th>\n",
       "      <td>1589.78</td>\n",
       "      <td>77.48</td>\n",
       "      <td>26469.0</td>\n",
       "      <td>104061</td>\n",
       "      <td>182265</td>\n",
       "    </tr>\n",
       "    <tr>\n",
       "      <th>2</th>\n",
       "      <td>884.88</td>\n",
       "      <td>73.97</td>\n",
       "      <td>15875.0</td>\n",
       "      <td>11829</td>\n",
       "      <td>27457</td>\n",
       "    </tr>\n",
       "    <tr>\n",
       "      <th>3</th>\n",
       "      <td>622.58</td>\n",
       "      <td>73.55</td>\n",
       "      <td>19918.0</td>\n",
       "      <td>8981</td>\n",
       "      <td>22915</td>\n",
       "    </tr>\n",
       "    <tr>\n",
       "      <th>4</th>\n",
       "      <td>644.78</td>\n",
       "      <td>76.08</td>\n",
       "      <td>21070.0</td>\n",
       "      <td>23887</td>\n",
       "      <td>57322</td>\n",
       "    </tr>\n",
       "    <tr>\n",
       "      <th>5</th>\n",
       "      <td>622.80</td>\n",
       "      <td>77.60</td>\n",
       "      <td>20289.0</td>\n",
       "      <td>4493</td>\n",
       "      <td>10914</td>\n",
       "    </tr>\n",
       "    <tr>\n",
       "      <th>6</th>\n",
       "      <td>776.83</td>\n",
       "      <td>73.39</td>\n",
       "      <td>16916.0</td>\n",
       "      <td>9964</td>\n",
       "      <td>20947</td>\n",
       "    </tr>\n",
       "    <tr>\n",
       "      <th>7</th>\n",
       "      <td>605.87</td>\n",
       "      <td>73.14</td>\n",
       "      <td>20574.0</td>\n",
       "      <td>53289</td>\n",
       "      <td>118572</td>\n",
       "    </tr>\n",
       "    <tr>\n",
       "      <th>8</th>\n",
       "      <td>596.53</td>\n",
       "      <td>73.61</td>\n",
       "      <td>16626.0</td>\n",
       "      <td>17004</td>\n",
       "      <td>34215</td>\n",
       "    </tr>\n",
       "    <tr>\n",
       "      <th>9</th>\n",
       "      <td>553.70</td>\n",
       "      <td>74.08</td>\n",
       "      <td>21322.0</td>\n",
       "      <td>16267</td>\n",
       "      <td>25989</td>\n",
       "    </tr>\n",
       "  </tbody>\n",
       "</table>\n",
       "</div>"
      ],
      "text/plain": [
       "   Land_area (sq miles)  life_exp   income  housing_units  Population_total\n",
       "0                594.44     75.32  24568.0          22135             54571\n",
       "1               1589.78     77.48  26469.0         104061            182265\n",
       "2                884.88     73.97  15875.0          11829             27457\n",
       "3                622.58     73.55  19918.0           8981             22915\n",
       "4                644.78     76.08  21070.0          23887             57322\n",
       "5                622.80     77.60  20289.0           4493             10914\n",
       "6                776.83     73.39  16916.0           9964             20947\n",
       "7                605.87     73.14  20574.0          53289            118572\n",
       "8                596.53     73.61  16626.0          17004             34215\n",
       "9                553.70     74.08  21322.0          16267             25989"
      ]
     },
     "execution_count": 5,
     "metadata": {},
     "output_type": "execute_result"
    }
   ],
   "source": [
    "data[:10]"
   ]
  },
  {
   "cell_type": "code",
   "execution_count": 6,
   "metadata": {},
   "outputs": [
    {
     "data": {
      "text/plain": [
       "(3143, 4)"
      ]
     },
     "execution_count": 6,
     "metadata": {},
     "output_type": "execute_result"
    }
   ],
   "source": [
    "X = data.loc[:, :'housing_units']\n",
    "X.shape"
   ]
  },
  {
   "cell_type": "code",
   "execution_count": 7,
   "metadata": {},
   "outputs": [],
   "source": [
    "# impute missing data with mean\n",
    "for column in X.columns:\n",
    "    X[column].fillna(X[column].mean(), inplace=True)"
   ]
  },
  {
   "cell_type": "code",
   "execution_count": 8,
   "metadata": {},
   "outputs": [
    {
     "data": {
      "text/html": [
       "<div>\n",
       "<style scoped>\n",
       "    .dataframe tbody tr th:only-of-type {\n",
       "        vertical-align: middle;\n",
       "    }\n",
       "\n",
       "    .dataframe tbody tr th {\n",
       "        vertical-align: top;\n",
       "    }\n",
       "\n",
       "    .dataframe thead th {\n",
       "        text-align: right;\n",
       "    }\n",
       "</style>\n",
       "<table border=\"1\" class=\"dataframe\">\n",
       "  <thead>\n",
       "    <tr style=\"text-align: right;\">\n",
       "      <th></th>\n",
       "      <th>Land_area (sq miles)</th>\n",
       "      <th>life_exp</th>\n",
       "      <th>income</th>\n",
       "      <th>housing_units</th>\n",
       "    </tr>\n",
       "  </thead>\n",
       "  <tbody>\n",
       "    <tr>\n",
       "      <th>count</th>\n",
       "      <td>3143.000000</td>\n",
       "      <td>3143.000000</td>\n",
       "      <td>3143.000000</td>\n",
       "      <td>3.143000e+03</td>\n",
       "    </tr>\n",
       "    <tr>\n",
       "      <th>mean</th>\n",
       "      <td>1123.736958</td>\n",
       "      <td>77.686997</td>\n",
       "      <td>22505.447486</td>\n",
       "      <td>4.190415e+04</td>\n",
       "    </tr>\n",
       "    <tr>\n",
       "      <th>std</th>\n",
       "      <td>3611.418224</td>\n",
       "      <td>2.544701</td>\n",
       "      <td>5408.503948</td>\n",
       "      <td>1.227682e+05</td>\n",
       "    </tr>\n",
       "    <tr>\n",
       "      <th>min</th>\n",
       "      <td>2.000000</td>\n",
       "      <td>69.050000</td>\n",
       "      <td>7772.000000</td>\n",
       "      <td>5.000000e+01</td>\n",
       "    </tr>\n",
       "    <tr>\n",
       "      <th>25%</th>\n",
       "      <td>430.725000</td>\n",
       "      <td>75.950000</td>\n",
       "      <td>19030.000000</td>\n",
       "      <td>5.416500e+03</td>\n",
       "    </tr>\n",
       "    <tr>\n",
       "      <th>50%</th>\n",
       "      <td>615.630000</td>\n",
       "      <td>77.686997</td>\n",
       "      <td>21777.000000</td>\n",
       "      <td>1.216200e+04</td>\n",
       "    </tr>\n",
       "    <tr>\n",
       "      <th>75%</th>\n",
       "      <td>923.955000</td>\n",
       "      <td>79.345000</td>\n",
       "      <td>24813.500000</td>\n",
       "      <td>3.057350e+04</td>\n",
       "    </tr>\n",
       "    <tr>\n",
       "      <th>max</th>\n",
       "      <td>145504.790000</td>\n",
       "      <td>89.500000</td>\n",
       "      <td>64381.000000</td>\n",
       "      <td>3.445076e+06</td>\n",
       "    </tr>\n",
       "  </tbody>\n",
       "</table>\n",
       "</div>"
      ],
      "text/plain": [
       "       Land_area (sq miles)     life_exp        income  housing_units\n",
       "count           3143.000000  3143.000000   3143.000000   3.143000e+03\n",
       "mean            1123.736958    77.686997  22505.447486   4.190415e+04\n",
       "std             3611.418224     2.544701   5408.503948   1.227682e+05\n",
       "min                2.000000    69.050000   7772.000000   5.000000e+01\n",
       "25%              430.725000    75.950000  19030.000000   5.416500e+03\n",
       "50%              615.630000    77.686997  21777.000000   1.216200e+04\n",
       "75%              923.955000    79.345000  24813.500000   3.057350e+04\n",
       "max           145504.790000    89.500000  64381.000000   3.445076e+06"
      ]
     },
     "execution_count": 8,
     "metadata": {},
     "output_type": "execute_result"
    }
   ],
   "source": [
    "X.describe()"
   ]
  },
  {
   "cell_type": "code",
   "execution_count": 9,
   "metadata": {},
   "outputs": [
    {
     "data": {
      "text/plain": [
       "Land_area (sq miles)    0\n",
       "life_exp                0\n",
       "income                  0\n",
       "housing_units           0\n",
       "dtype: int64"
      ]
     },
     "execution_count": 9,
     "metadata": {},
     "output_type": "execute_result"
    }
   ],
   "source": [
    "X.isna().sum()"
   ]
  },
  {
   "cell_type": "code",
   "execution_count": 10,
   "metadata": {},
   "outputs": [
    {
     "data": {
      "text/plain": [
       "(3143,)"
      ]
     },
     "execution_count": 10,
     "metadata": {},
     "output_type": "execute_result"
    }
   ],
   "source": [
    "y = data['Population_total']\n",
    "y.shape"
   ]
  },
  {
   "cell_type": "code",
   "execution_count": 11,
   "metadata": {},
   "outputs": [
    {
     "data": {
      "text/plain": [
       "0"
      ]
     },
     "execution_count": 11,
     "metadata": {},
     "output_type": "execute_result"
    }
   ],
   "source": [
    "y.isna().sum()"
   ]
  },
  {
   "cell_type": "code",
   "execution_count": 12,
   "metadata": {},
   "outputs": [],
   "source": [
    "X_train, X_test, y_train, y_test = train_test_split(X, y, test_size=0.3, random_state=100)"
   ]
  },
  {
   "cell_type": "code",
   "execution_count": 13,
   "metadata": {},
   "outputs": [],
   "source": [
    "X_log_train = np.log(X_train)\n",
    "X_log_test = np.log(X_test)\n",
    "y_log_train = np.log(y_train)\n",
    "y_log_test = np.log(y_test)"
   ]
  },
  {
   "cell_type": "code",
   "execution_count": 14,
   "metadata": {},
   "outputs": [],
   "source": [
    "lm_log = linear_model.LinearRegression()\n",
    "model = lm_log.fit(X_log_train, y_log_train)"
   ]
  },
  {
   "cell_type": "code",
   "execution_count": 15,
   "metadata": {},
   "outputs": [
    {
     "data": {
      "text/plain": [
       "array([-0.02530717,  0.51716738, -0.26568577,  1.06098203])"
      ]
     },
     "execution_count": 15,
     "metadata": {},
     "output_type": "execute_result"
    }
   ],
   "source": [
    "lm_log.coef_"
   ]
  },
  {
   "cell_type": "code",
   "execution_count": 16,
   "metadata": {},
   "outputs": [
    {
     "data": {
      "text/plain": [
       "0.7406667423834303"
      ]
     },
     "execution_count": 16,
     "metadata": {},
     "output_type": "execute_result"
    }
   ],
   "source": [
    "lm_log.intercept_"
   ]
  },
  {
   "cell_type": "code",
   "execution_count": 17,
   "metadata": {},
   "outputs": [],
   "source": [
    "y_log_fit = lm_log.predict(X_log_train)"
   ]
  },
  {
   "cell_type": "code",
   "execution_count": 18,
   "metadata": {},
   "outputs": [],
   "source": [
    "y_fit = np.exp(y_log_fit)"
   ]
  },
  {
   "cell_type": "code",
   "execution_count": 19,
   "metadata": {},
   "outputs": [
    {
     "data": {
      "text/plain": [
       "0.9894043995907322"
      ]
     },
     "execution_count": 19,
     "metadata": {},
     "output_type": "execute_result"
    }
   ],
   "source": [
    "r2_train = r2_score(y_train, y_fit)\n",
    "r2_train"
   ]
  },
  {
   "cell_type": "code",
   "execution_count": 20,
   "metadata": {},
   "outputs": [
    {
     "data": {
      "text/plain": [
       "32969.375202035466"
      ]
     },
     "execution_count": 20,
     "metadata": {},
     "output_type": "execute_result"
    }
   ],
   "source": [
    "rmse_train = sqrt(mean_squared_error(y_train, y_fit))\n",
    "rmse_train"
   ]
  },
  {
   "cell_type": "code",
   "execution_count": 21,
   "metadata": {},
   "outputs": [
    {
     "data": {
      "text/plain": [
       "10166.284339860542"
      ]
     },
     "execution_count": 21,
     "metadata": {},
     "output_type": "execute_result"
    }
   ],
   "source": [
    "mae_train = mean_absolute_error(y_train, y_fit)\n",
    "mae_train"
   ]
  },
  {
   "cell_type": "code",
   "execution_count": 22,
   "metadata": {},
   "outputs": [],
   "source": [
    "y_log_pred = lm_log.predict(X_log_test)"
   ]
  },
  {
   "cell_type": "code",
   "execution_count": 23,
   "metadata": {},
   "outputs": [],
   "source": [
    "y_pred = np.exp(y_log_pred)"
   ]
  },
  {
   "cell_type": "code",
   "execution_count": 24,
   "metadata": {},
   "outputs": [
    {
     "data": {
      "text/plain": [
       "34348.05385795133"
      ]
     },
     "execution_count": 24,
     "metadata": {},
     "output_type": "execute_result"
    }
   ],
   "source": [
    "rmse_test = sqrt(mean_squared_error(y_test, y_pred))\n",
    "rmse_test"
   ]
  },
  {
   "cell_type": "code",
   "execution_count": 25,
   "metadata": {},
   "outputs": [
    {
     "data": {
      "text/plain": [
       "9454.63174673248"
      ]
     },
     "execution_count": 25,
     "metadata": {},
     "output_type": "execute_result"
    }
   ],
   "source": [
    "mae_test = mean_absolute_error(y_test, y_pred)\n",
    "mae_test"
   ]
  },
  {
   "cell_type": "code",
   "execution_count": 26,
   "metadata": {},
   "outputs": [
    {
     "data": {
      "text/plain": [
       "0.9864208018258842"
      ]
     },
     "execution_count": 26,
     "metadata": {},
     "output_type": "execute_result"
    }
   ],
   "source": [
    "r2_test = r2_score(y_test, y_pred)\n",
    "r2_test"
   ]
  },
  {
   "cell_type": "code",
   "execution_count": 27,
   "metadata": {},
   "outputs": [],
   "source": [
    "y_log_pred_all = lm_log.predict(np.log(X))"
   ]
  },
  {
   "cell_type": "code",
   "execution_count": 28,
   "metadata": {},
   "outputs": [],
   "source": [
    "y_pred_all = np.exp(y_log_pred_all)"
   ]
  },
  {
   "cell_type": "code",
   "execution_count": 29,
   "metadata": {},
   "outputs": [
    {
     "data": {
      "text/plain": [
       "0     54571\n",
       "1    182265\n",
       "2     27457\n",
       "3     22915\n",
       "4     57322\n",
       "5     10914\n",
       "6     20947\n",
       "7    118572\n",
       "8     34215\n",
       "9     25989\n",
       "Name: Population_total, dtype: int64"
      ]
     },
     "execution_count": 29,
     "metadata": {},
     "output_type": "execute_result"
    }
   ],
   "source": [
    "y[:10]"
   ]
  },
  {
   "cell_type": "code",
   "execution_count": 30,
   "metadata": {},
   "outputs": [
    {
     "data": {
      "text/plain": [
       "array([ 46316.09961042, 232205.20004881,  26239.74444736,  18554.44844508,\n",
       "        52470.55197224,   9103.80444898,  21489.97296241, 121401.3739513 ,\n",
       "        38377.64878059,  34451.2432719 ])"
      ]
     },
     "execution_count": 30,
     "metadata": {},
     "output_type": "execute_result"
    }
   ],
   "source": [
    "y_pred_all[:10]"
   ]
  },
  {
   "cell_type": "code",
   "execution_count": 31,
   "metadata": {},
   "outputs": [
    {
     "data": {
      "text/plain": [
       "DescribeResult(nobs=3143, minmax=(63.30439526588056, 9400995.180035794), mean=98090.86370878018, variance=99903003735.08351, skewness=13.61770586188247, kurtosis=301.0667670318177)"
      ]
     },
     "execution_count": 31,
     "metadata": {},
     "output_type": "execute_result"
    }
   ],
   "source": [
    "stats.describe(y_pred_all)"
   ]
  },
  {
   "cell_type": "code",
   "execution_count": 32,
   "metadata": {},
   "outputs": [
    {
     "data": {
      "text/html": [
       "<div>\n",
       "<style scoped>\n",
       "    .dataframe tbody tr th:only-of-type {\n",
       "        vertical-align: middle;\n",
       "    }\n",
       "\n",
       "    .dataframe tbody tr th {\n",
       "        vertical-align: top;\n",
       "    }\n",
       "\n",
       "    .dataframe thead th {\n",
       "        text-align: right;\n",
       "    }\n",
       "</style>\n",
       "<table border=\"1\" class=\"dataframe\">\n",
       "  <thead>\n",
       "    <tr style=\"text-align: right;\">\n",
       "      <th></th>\n",
       "      <th>state_county</th>\n",
       "      <th>label</th>\n",
       "      <th>state_name</th>\n",
       "      <th>county_name</th>\n",
       "      <th>Land_area (sq miles)</th>\n",
       "      <th>life_exp</th>\n",
       "      <th>income</th>\n",
       "      <th>inflow_exmpt_num</th>\n",
       "      <th>housing_units</th>\n",
       "      <th>Population_total</th>\n",
       "      <th>Population_pred</th>\n",
       "    </tr>\n",
       "  </thead>\n",
       "  <tbody>\n",
       "    <tr>\n",
       "      <th>0</th>\n",
       "      <td>1001</td>\n",
       "      <td>United States - Alabama - Autauga County</td>\n",
       "      <td>Alabama</td>\n",
       "      <td>Autauga County</td>\n",
       "      <td>594.44</td>\n",
       "      <td>75.32</td>\n",
       "      <td>24568.0</td>\n",
       "      <td>4293</td>\n",
       "      <td>22135</td>\n",
       "      <td>54571</td>\n",
       "      <td>46316.099610</td>\n",
       "    </tr>\n",
       "    <tr>\n",
       "      <th>1</th>\n",
       "      <td>1003</td>\n",
       "      <td>United States - Alabama - Baldwin County</td>\n",
       "      <td>Alabama</td>\n",
       "      <td>Baldwin County</td>\n",
       "      <td>1589.78</td>\n",
       "      <td>77.48</td>\n",
       "      <td>26469.0</td>\n",
       "      <td>9517</td>\n",
       "      <td>104061</td>\n",
       "      <td>182265</td>\n",
       "      <td>232205.200049</td>\n",
       "    </tr>\n",
       "    <tr>\n",
       "      <th>2</th>\n",
       "      <td>1005</td>\n",
       "      <td>United States - Alabama - Barbour County</td>\n",
       "      <td>Alabama</td>\n",
       "      <td>Barbour County</td>\n",
       "      <td>884.88</td>\n",
       "      <td>73.97</td>\n",
       "      <td>15875.0</td>\n",
       "      <td>997</td>\n",
       "      <td>11829</td>\n",
       "      <td>27457</td>\n",
       "      <td>26239.744447</td>\n",
       "    </tr>\n",
       "    <tr>\n",
       "      <th>3</th>\n",
       "      <td>1007</td>\n",
       "      <td>United States - Alabama - Bibb County</td>\n",
       "      <td>Alabama</td>\n",
       "      <td>Bibb County</td>\n",
       "      <td>622.58</td>\n",
       "      <td>73.55</td>\n",
       "      <td>19918.0</td>\n",
       "      <td>942</td>\n",
       "      <td>8981</td>\n",
       "      <td>22915</td>\n",
       "      <td>18554.448445</td>\n",
       "    </tr>\n",
       "    <tr>\n",
       "      <th>4</th>\n",
       "      <td>1009</td>\n",
       "      <td>United States - Alabama - Blount County</td>\n",
       "      <td>Alabama</td>\n",
       "      <td>Blount County</td>\n",
       "      <td>644.78</td>\n",
       "      <td>76.08</td>\n",
       "      <td>21070.0</td>\n",
       "      <td>2572</td>\n",
       "      <td>23887</td>\n",
       "      <td>57322</td>\n",
       "      <td>52470.551972</td>\n",
       "    </tr>\n",
       "    <tr>\n",
       "      <th>5</th>\n",
       "      <td>1011</td>\n",
       "      <td>United States - Alabama - Bullock County</td>\n",
       "      <td>Alabama</td>\n",
       "      <td>Bullock County</td>\n",
       "      <td>622.80</td>\n",
       "      <td>77.60</td>\n",
       "      <td>20289.0</td>\n",
       "      <td>403</td>\n",
       "      <td>4493</td>\n",
       "      <td>10914</td>\n",
       "      <td>9103.804449</td>\n",
       "    </tr>\n",
       "    <tr>\n",
       "      <th>6</th>\n",
       "      <td>1013</td>\n",
       "      <td>United States - Alabama - Butler County</td>\n",
       "      <td>Alabama</td>\n",
       "      <td>Butler County</td>\n",
       "      <td>776.83</td>\n",
       "      <td>73.39</td>\n",
       "      <td>16916.0</td>\n",
       "      <td>690</td>\n",
       "      <td>9964</td>\n",
       "      <td>20947</td>\n",
       "      <td>21489.972962</td>\n",
       "    </tr>\n",
       "    <tr>\n",
       "      <th>7</th>\n",
       "      <td>1015</td>\n",
       "      <td>United States - Alabama - Calhoun County</td>\n",
       "      <td>Alabama</td>\n",
       "      <td>Calhoun County</td>\n",
       "      <td>605.87</td>\n",
       "      <td>73.14</td>\n",
       "      <td>20574.0</td>\n",
       "      <td>4151</td>\n",
       "      <td>53289</td>\n",
       "      <td>118572</td>\n",
       "      <td>121401.373951</td>\n",
       "    </tr>\n",
       "    <tr>\n",
       "      <th>8</th>\n",
       "      <td>1017</td>\n",
       "      <td>United States - Alabama - Chambers County</td>\n",
       "      <td>Alabama</td>\n",
       "      <td>Chambers County</td>\n",
       "      <td>596.53</td>\n",
       "      <td>73.61</td>\n",
       "      <td>16626.0</td>\n",
       "      <td>1531</td>\n",
       "      <td>17004</td>\n",
       "      <td>34215</td>\n",
       "      <td>38377.648781</td>\n",
       "    </tr>\n",
       "    <tr>\n",
       "      <th>9</th>\n",
       "      <td>1019</td>\n",
       "      <td>United States - Alabama - Cherokee County</td>\n",
       "      <td>Alabama</td>\n",
       "      <td>Cherokee County</td>\n",
       "      <td>553.70</td>\n",
       "      <td>74.08</td>\n",
       "      <td>21322.0</td>\n",
       "      <td>920</td>\n",
       "      <td>16267</td>\n",
       "      <td>25989</td>\n",
       "      <td>34451.243272</td>\n",
       "    </tr>\n",
       "  </tbody>\n",
       "</table>\n",
       "</div>"
      ],
      "text/plain": [
       "   state_county                                      label state_name  \\\n",
       "0          1001   United States - Alabama - Autauga County   Alabama    \n",
       "1          1003   United States - Alabama - Baldwin County   Alabama    \n",
       "2          1005   United States - Alabama - Barbour County   Alabama    \n",
       "3          1007      United States - Alabama - Bibb County   Alabama    \n",
       "4          1009    United States - Alabama - Blount County   Alabama    \n",
       "5          1011   United States - Alabama - Bullock County   Alabama    \n",
       "6          1013    United States - Alabama - Butler County   Alabama    \n",
       "7          1015   United States - Alabama - Calhoun County   Alabama    \n",
       "8          1017  United States - Alabama - Chambers County   Alabama    \n",
       "9          1019  United States - Alabama - Cherokee County   Alabama    \n",
       "\n",
       "       county_name  Land_area (sq miles)  life_exp   income  inflow_exmpt_num  \\\n",
       "0   Autauga County                594.44     75.32  24568.0              4293   \n",
       "1   Baldwin County               1589.78     77.48  26469.0              9517   \n",
       "2   Barbour County                884.88     73.97  15875.0               997   \n",
       "3      Bibb County                622.58     73.55  19918.0               942   \n",
       "4    Blount County                644.78     76.08  21070.0              2572   \n",
       "5   Bullock County                622.80     77.60  20289.0               403   \n",
       "6    Butler County                776.83     73.39  16916.0               690   \n",
       "7   Calhoun County                605.87     73.14  20574.0              4151   \n",
       "8  Chambers County                596.53     73.61  16626.0              1531   \n",
       "9  Cherokee County                553.70     74.08  21322.0               920   \n",
       "\n",
       "   housing_units  Population_total  Population_pred  \n",
       "0          22135             54571     46316.099610  \n",
       "1         104061            182265    232205.200049  \n",
       "2          11829             27457     26239.744447  \n",
       "3           8981             22915     18554.448445  \n",
       "4          23887             57322     52470.551972  \n",
       "5           4493             10914      9103.804449  \n",
       "6           9964             20947     21489.972962  \n",
       "7          53289            118572    121401.373951  \n",
       "8          17004             34215     38377.648781  \n",
       "9          16267             25989     34451.243272  "
      ]
     },
     "execution_count": 32,
     "metadata": {},
     "output_type": "execute_result"
    }
   ],
   "source": [
    "df['Population_pred'] = y_pred_all[:]\n",
    "df[:10]"
   ]
  },
  {
   "cell_type": "code",
   "execution_count": 33,
   "metadata": {},
   "outputs": [],
   "source": [
    "df.to_csv('linear_regression_pred_log-transform.csv', index=False)"
   ]
  },
  {
   "cell_type": "code",
   "execution_count": 34,
   "metadata": {},
   "outputs": [
    {
     "data": {
      "text/plain": [
       "array([63.30439527])"
      ]
     },
     "execution_count": 34,
     "metadata": {},
     "output_type": "execute_result"
    }
   ],
   "source": [
    "y_pred_all[y_pred_all <= 100]"
   ]
  },
  {
   "cell_type": "code",
   "execution_count": 37,
   "metadata": {},
   "outputs": [
    {
     "data": {
      "text/plain": [
       "9952.765919459729"
      ]
     },
     "execution_count": 37,
     "metadata": {},
     "output_type": "execute_result"
    }
   ],
   "source": [
    "mean_absolute_error(y, y_pred_all)"
   ]
  },
  {
   "cell_type": "code",
   "execution_count": 39,
   "metadata": {},
   "outputs": [
    {
     "data": {
      "text/plain": [
       "2047.909547165429"
      ]
     },
     "execution_count": 39,
     "metadata": {},
     "output_type": "execute_result"
    }
   ],
   "source": [
    "median_absolute_error(y,y_pred_all)"
   ]
  },
  {
   "cell_type": "code",
   "execution_count": 40,
   "metadata": {},
   "outputs": [
    {
     "data": {
      "text/plain": [
       "0.9886098200518557"
      ]
     },
     "execution_count": 40,
     "metadata": {},
     "output_type": "execute_result"
    }
   ],
   "source": [
    "r2_score(y,y_pred_all)"
   ]
  },
  {
   "cell_type": "code",
   "execution_count": null,
   "metadata": {},
   "outputs": [],
   "source": []
  }
 ],
 "metadata": {
  "kernelspec": {
   "display_name": "Python 3",
   "language": "python",
   "name": "python3"
  },
  "language_info": {
   "codemirror_mode": {
    "name": "ipython",
    "version": 3
   },
   "file_extension": ".py",
   "mimetype": "text/x-python",
   "name": "python",
   "nbconvert_exporter": "python",
   "pygments_lexer": "ipython3",
   "version": "3.7.3"
  }
 },
 "nbformat": 4,
 "nbformat_minor": 2
}
